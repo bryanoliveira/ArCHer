{
 "cells": [
  {
   "cell_type": "code",
   "execution_count": null,
   "metadata": {},
   "outputs": [],
   "source": [
    "import json\n",
    "import os\n",
    "\n",
    "from datasets import load_dataset\n",
    "import numpy as np\n",
    "import pandas as pd\n",
    "import torch\n",
    "from tqdm import tqdm\n",
    "\n",
    "from archer.data import ReplayBuffer\n",
    "from archer.environment.env_utils import add_mc_return, add_trajectory_reward"
   ]
  },
  {
   "cell_type": "code",
   "execution_count": 11,
   "metadata": {},
   "outputs": [
    {
     "name": "stdout",
     "output_type": "stream",
     "text": [
      "{\n",
      "    \"message_id\": \"002c4715-b026-48d1-8d19-3f724a9fc1e8\",\n",
      "    \"parent_id\": null,\n",
      "    \"user_id\": \"30d0209f-a418-4fac-8157-adf8ddc21aee\",\n",
      "    \"created_date\": \"2023-02-05T22:44:05.434674+00:00\",\n",
      "    \"text\": \"Dame los pasos de las cosas que deber\\u00eda de aprender para ser un desarrollador de videojuegos.\",\n",
      "    \"role\": \"prompter\",\n",
      "    \"lang\": \"es\",\n",
      "    \"review_count\": 3,\n",
      "    \"review_result\": true,\n",
      "    \"deleted\": false,\n",
      "    \"rank\": null,\n",
      "    \"synthetic\": false,\n",
      "    \"model_name\": null,\n",
      "    \"detoxify\": {\n",
      "        \"toxicity\": 0.0023501887917518616,\n",
      "        \"severe_toxicity\": 0.00018701136286836118,\n",
      "        \"obscene\": 0.0027747140266001225,\n",
      "        \"identity_attack\": 0.00036620706669054925,\n",
      "        \"insult\": 0.002524558687582612,\n",
      "        \"threat\": 0.00032923146500252187,\n",
      "        \"sexual_explicit\": 0.0001823759957915172\n",
      "    },\n",
      "    \"message_tree_id\": \"002c4715-b026-48d1-8d19-3f724a9fc1e8\",\n",
      "    \"tree_state\": \"ready_for_export\",\n",
      "    \"emojis\": {\n",
      "        \"name\": [\n",
      "            \"+1\",\n",
      "            \"_skip_reply\",\n",
      "            \"_skip_ranking\"\n",
      "        ],\n",
      "        \"count\": [\n",
      "            11,\n",
      "            8,\n",
      "            1\n",
      "        ]\n",
      "    },\n",
      "    \"labels\": {\n",
      "        \"name\": [\n",
      "            \"spam\",\n",
      "            \"lang_mismatch\",\n",
      "            \"pii\",\n",
      "            \"not_appropriate\",\n",
      "            \"hate_speech\",\n",
      "            \"sexual_content\",\n",
      "            \"quality\",\n",
      "            \"toxicity\",\n",
      "            \"humor\",\n",
      "            \"creativity\",\n",
      "            \"violence\"\n",
      "        ],\n",
      "        \"value\": [\n",
      "            0.0,\n",
      "            0.0,\n",
      "            0.0,\n",
      "            0.0,\n",
      "            0.0,\n",
      "            0.0,\n",
      "            0.8125,\n",
      "            0.16666666666666666,\n",
      "            0.3333333333333333,\n",
      "            0.5,\n",
      "            0.0\n",
      "        ],\n",
      "        \"count\": [\n",
      "            4,\n",
      "            3,\n",
      "            3,\n",
      "            3,\n",
      "            3,\n",
      "            3,\n",
      "            4,\n",
      "            3,\n",
      "            3,\n",
      "            3,\n",
      "            3\n",
      "        ]\n",
      "    }\n",
      "}\n"
     ]
    }
   ],
   "source": [
    "dataset = load_dataset(\"OpenAssistant/oasst2\", split=\"train\")\n",
    "print(json.dumps(dataset[0], indent=4))"
   ]
  },
  {
   "cell_type": "code",
   "execution_count": 13,
   "metadata": {},
   "outputs": [],
   "source": [
    "# Convert the dataset to a pandas DataFrame for easier filtering\n",
    "df = pd.DataFrame(dataset)"
   ]
  },
  {
   "cell_type": "code",
   "execution_count": 15,
   "metadata": {},
   "outputs": [],
   "source": [
    "def find_paths(node_id, path):\n",
    "    children = df[df['parent_id'] == node_id]\n",
    "    if children.empty:\n",
    "        paths.append(path)\n",
    "    else:\n",
    "        for _, child in children.iterrows():\n",
    "            find_paths(child['message_id'], path + [child['message_id']])\n",
    "\n",
    "paths = []\n",
    "roots = df[df['parent_id'].isnull()]\n",
    "for _, root in roots.iterrows():\n",
    "    find_paths(root['message_id'], [root['message_id']])"
   ]
  },
  {
   "cell_type": "code",
   "execution_count": 33,
   "metadata": {},
   "outputs": [
    {
     "name": "stderr",
     "output_type": "stream",
     "text": [
      "100%|██████████| 65143/65143 [47:56<00:00, 22.65it/s] \n"
     ]
    }
   ],
   "source": [
    "def format_prompt(message):\n",
    "    return f\"\\n\\nHuman: {message}\\n\\nAssistant:\"\n",
    "\n",
    "trajectories = []\n",
    "for path in tqdm(paths):\n",
    "    trajectory = []\n",
    "\n",
    "    obs = None\n",
    "    action = None\n",
    "    reward = None\n",
    "    next_obs = None\n",
    "    done = False\n",
    "    for i, node_id in enumerate(path):\n",
    "        row = df[df['message_id'] == node_id].iloc[0].to_dict()\n",
    "        if row[\"role\"] == \"assistant\":\n",
    "            action = row[\"text\"]\n",
    "            reward = -(row[\"rank\"] or 0)\n",
    "        elif obs is None:\n",
    "            obs = format_prompt(row[\"text\"])\n",
    "        else:\n",
    "            next_obs = obs + action + format_prompt(row[\"text\"])\n",
    "            trajectory.append(\n",
    "                {\n",
    "                    \"observation\": obs,\n",
    "                    \"next_observation\": next_obs,\n",
    "                    \"reward\": reward,\n",
    "                    \"done\": i == len(path) - 1,\n",
    "                    \"action\": action,\n",
    "                }\n",
    "            )\n",
    "            obs = next_obs\n",
    "            action = None\n",
    "\n",
    "    if action is not None:\n",
    "        trajectory.append(\n",
    "            {\n",
    "                \"observation\": obs,\n",
    "                \"action\": action,\n",
    "                \"reward\": reward,\n",
    "                \"next_observation\": next_obs or (obs + action),\n",
    "                \"done\": True,\n",
    "            }\n",
    "        )\n",
    "\n",
    "    trajectory = add_mc_return(add_trajectory_reward(trajectory))\n",
    "    trajectories.append(trajectory)"
   ]
  },
  {
   "cell_type": "code",
   "execution_count": 65,
   "metadata": {},
   "outputs": [
    {
     "name": "stderr",
     "output_type": "stream",
     "text": [
      "100%|██████████| 65143/65143 [00:00<00:00, 116128.59it/s]\n"
     ]
    }
   ],
   "source": [
    "replay_buffer= ReplayBuffer(batch_size=2, capacity=len(trajectories))\n",
    "for trajectory in tqdm(trajectories):\n",
    "    for transition in trajectory:\n",
    "        replay_buffer.insert(**transition)"
   ]
  },
  {
   "cell_type": "code",
   "execution_count": 67,
   "metadata": {},
   "outputs": [],
   "source": [
    "torch.save(replay_buffer, os.path.join(\"outputs/oasst/replay_buffer.pt\"))\n",
    "torch.save(trajectories, os.path.join(\"outputs/oasst/trajectories.pt\"))"
   ]
  }
 ],
 "metadata": {
  "kernelspec": {
   "display_name": "archer",
   "language": "python",
   "name": "python3"
  },
  "language_info": {
   "codemirror_mode": {
    "name": "ipython",
    "version": 3
   },
   "file_extension": ".py",
   "mimetype": "text/x-python",
   "name": "python",
   "nbconvert_exporter": "python",
   "pygments_lexer": "ipython3",
   "version": "3.10.0"
  }
 },
 "nbformat": 4,
 "nbformat_minor": 2
}
