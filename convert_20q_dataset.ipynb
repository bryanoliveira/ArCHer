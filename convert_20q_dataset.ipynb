{
 "cells": [
  {
   "cell_type": "code",
   "execution_count": 21,
   "metadata": {},
   "outputs": [],
   "source": [
    "import json\n",
    "import os\n",
    "\n",
    "import pandas as pd\n",
    "import torch\n",
    "from tqdm import tqdm\n",
    "\n",
    "from archer.data import ReplayBuffer\n",
    "from archer.environment.env_utils import add_mc_return, add_trajectory_reward"
   ]
  },
  {
   "cell_type": "code",
   "execution_count": 2,
   "metadata": {},
   "outputs": [
    {
     "data": {
      "text/html": [
       "<div>\n",
       "<style scoped>\n",
       "    .dataframe tbody tr th:only-of-type {\n",
       "        vertical-align: middle;\n",
       "    }\n",
       "\n",
       "    .dataframe tbody tr th {\n",
       "        vertical-align: top;\n",
       "    }\n",
       "\n",
       "    .dataframe thead th {\n",
       "        text-align: right;\n",
       "    }\n",
       "</style>\n",
       "<table border=\"1\" class=\"dataframe\">\n",
       "  <thead>\n",
       "    <tr style=\"text-align: right;\">\n",
       "      <th></th>\n",
       "      <th>lines</th>\n",
       "      <th>correct</th>\n",
       "      <th>word</th>\n",
       "    </tr>\n",
       "  </thead>\n",
       "  <tbody>\n",
       "    <tr>\n",
       "      <th>0</th>\n",
       "      <td>[Is the object alive? Yes., Is the object a ma...</td>\n",
       "      <td>False</td>\n",
       "      <td>[Tomato]</td>\n",
       "    </tr>\n",
       "    <tr>\n",
       "      <th>1</th>\n",
       "      <td>[Is the object animate? No., Is the object man...</td>\n",
       "      <td>False</td>\n",
       "      <td>[Canvas, Painting canvas]</td>\n",
       "    </tr>\n",
       "    <tr>\n",
       "      <th>2</th>\n",
       "      <td>[Is it an animal? Yes., Is it a mammal? Yes., ...</td>\n",
       "      <td>True</td>\n",
       "      <td>[Cat]</td>\n",
       "    </tr>\n",
       "    <tr>\n",
       "      <th>3</th>\n",
       "      <td>[Is the object alive? No., Is the object man-m...</td>\n",
       "      <td>False</td>\n",
       "      <td>[Flute]</td>\n",
       "    </tr>\n",
       "    <tr>\n",
       "      <th>4</th>\n",
       "      <td>[Is it an animal? No., Is it an inanimate obje...</td>\n",
       "      <td>True</td>\n",
       "      <td>[River]</td>\n",
       "    </tr>\n",
       "  </tbody>\n",
       "</table>\n",
       "</div>"
      ],
      "text/plain": [
       "                                               lines  correct  \\\n",
       "0  [Is the object alive? Yes., Is the object a ma...    False   \n",
       "1  [Is the object animate? No., Is the object man...    False   \n",
       "2  [Is it an animal? Yes., Is it a mammal? Yes., ...     True   \n",
       "3  [Is the object alive? No., Is the object man-m...    False   \n",
       "4  [Is it an animal? No., Is it an inanimate obje...     True   \n",
       "\n",
       "                        word  \n",
       "0                   [Tomato]  \n",
       "1  [Canvas, Painting canvas]  \n",
       "2                      [Cat]  \n",
       "3                    [Flute]  \n",
       "4                    [River]  "
      ]
     },
     "execution_count": 2,
     "metadata": {},
     "output_type": "execute_result"
    }
   ],
   "source": [
    "# Read the JSON file into a DataFrame\n",
    "df = pd.read_json('dataset/twenty_questions.json')\n",
    "df.head()"
   ]
  },
  {
   "cell_type": "code",
   "execution_count": 20,
   "metadata": {},
   "outputs": [
    {
     "name": "stderr",
     "output_type": "stream",
     "text": [
      "100%|██████████| 100000/100000 [00:18<00:00, 5328.74it/s]\n"
     ]
    }
   ],
   "source": [
    "trajectories = []\n",
    "for index, row in tqdm(df.iterrows(), total=len(df)):\n",
    "    trajectory = []\n",
    "    next_obs = f\"Questions:\\n\"\n",
    "    for i, line in enumerate(row[\"lines\"]):\n",
    "        obs = next_obs\n",
    "\n",
    "        # question, answer = line.split(\"? \")[-2:]  # cleaner dataset\n",
    "        question = \"? \".join(line.split(\"? \")[0:-1])\n",
    "        answer = line.split(\"? \")[-1]  # identical dataset\n",
    "\n",
    "        action = f\"{question}?\"\n",
    "        next_obs = f\"{obs}{action} {answer}\\n\"\n",
    "        reward = -1 if i < len(row[\"lines\"]) - 1 or not row[\"correct\"] else 0\n",
    "        done = i == len(row[\"lines\"]) - 1\n",
    "        trajectory.append(\n",
    "            {\n",
    "                \"observation\": obs,\n",
    "                \"action\": action,\n",
    "                \"reward\": reward,\n",
    "                \"next_observation\": next_obs,\n",
    "                \"done\": done,\n",
    "            }\n",
    "        )\n",
    "    # print(row[\"word\"])\n",
    "    # print(json.dumps(trajectory, indent=4))\n",
    "\n",
    "    trajectory = add_mc_return(add_trajectory_reward(trajectory))\n",
    "    trajectories.append(trajectory)"
   ]
  },
  {
   "cell_type": "code",
   "execution_count": 22,
   "metadata": {},
   "outputs": [
    {
     "name": "stderr",
     "output_type": "stream",
     "text": [
      "100%|██████████| 100000/100000 [00:04<00:00, 24398.82it/s]\n"
     ]
    }
   ],
   "source": [
    "replay_buffer= ReplayBuffer(batch_size=2, capacity=len(trajectories))\n",
    "for trajectory in tqdm(trajectories):\n",
    "    for transition in trajectory:\n",
    "        replay_buffer.insert(**transition)"
   ]
  },
  {
   "cell_type": "code",
   "execution_count": 24,
   "metadata": {},
   "outputs": [],
   "source": [
    "torch.save(replay_buffer, os.path.join(\"outputs/offline_archer_20q/replay_buffer.pt\"))\n",
    "torch.save(trajectories, os.path.join(\"outputs/offline_archer_20q/trajectories.pt\"))"
   ]
  }
 ],
 "metadata": {
  "kernelspec": {
   "display_name": "archer",
   "language": "python",
   "name": "python3"
  },
  "language_info": {
   "codemirror_mode": {
    "name": "ipython",
    "version": 3
   },
   "file_extension": ".py",
   "mimetype": "text/x-python",
   "name": "python",
   "nbconvert_exporter": "python",
   "pygments_lexer": "ipython3",
   "version": "3.10.0"
  }
 },
 "nbformat": 4,
 "nbformat_minor": 2
}
